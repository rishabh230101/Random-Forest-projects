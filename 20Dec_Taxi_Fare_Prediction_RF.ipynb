{
 "cells": [
  {
   "cell_type": "markdown",
   "id": "73a781fd",
   "metadata": {},
   "source": [
    "#### Import the Libraries"
   ]
  },
  {
   "cell_type": "code",
   "execution_count": 2,
   "id": "20fcbfac",
   "metadata": {},
   "outputs": [],
   "source": [
    "import warnings\n",
    "warnings.filterwarnings('ignore')"
   ]
  },
  {
   "cell_type": "code",
   "execution_count": 4,
   "id": "04952540",
   "metadata": {},
   "outputs": [],
   "source": [
    "import numpy as np\n",
    "import matplotlib.pyplot as plt\n",
    "import seaborn as sns\n",
    "import pandas as pd"
   ]
  },
  {
   "cell_type": "markdown",
   "id": "66fe636d",
   "metadata": {},
   "source": [
    "#### Read the dataset"
   ]
  },
  {
   "cell_type": "code",
   "execution_count": 7,
   "id": "f65a9aca",
   "metadata": {},
   "outputs": [
    {
     "data": {
      "text/html": [
       "<div>\n",
       "<style scoped>\n",
       "    .dataframe tbody tr th:only-of-type {\n",
       "        vertical-align: middle;\n",
       "    }\n",
       "\n",
       "    .dataframe tbody tr th {\n",
       "        vertical-align: top;\n",
       "    }\n",
       "\n",
       "    .dataframe thead th {\n",
       "        text-align: right;\n",
       "    }\n",
       "</style>\n",
       "<table border=\"1\" class=\"dataframe\">\n",
       "  <thead>\n",
       "    <tr style=\"text-align: right;\">\n",
       "      <th></th>\n",
       "      <th>unique_id</th>\n",
       "      <th>amount</th>\n",
       "      <th>date_time_of_pickup</th>\n",
       "      <th>longitude_of_pickup</th>\n",
       "      <th>latitude_of_pickup</th>\n",
       "      <th>longitude_of_dropoff</th>\n",
       "      <th>latitude_of_dropoff</th>\n",
       "      <th>no_of_passenger</th>\n",
       "    </tr>\n",
       "  </thead>\n",
       "  <tbody>\n",
       "    <tr>\n",
       "      <th>0</th>\n",
       "      <td>26:21.0</td>\n",
       "      <td>4.5</td>\n",
       "      <td>2009-06-15 17:26:21+00:00</td>\n",
       "      <td>-73.844311</td>\n",
       "      <td>40.721319</td>\n",
       "      <td>-73.841610</td>\n",
       "      <td>40.712278</td>\n",
       "      <td>1</td>\n",
       "    </tr>\n",
       "    <tr>\n",
       "      <th>1</th>\n",
       "      <td>52:16.0</td>\n",
       "      <td>16.9</td>\n",
       "      <td>2010-01-05 16:52:16+00:00</td>\n",
       "      <td>-74.016048</td>\n",
       "      <td>40.711303</td>\n",
       "      <td>-73.979268</td>\n",
       "      <td>40.782004</td>\n",
       "      <td>1</td>\n",
       "    </tr>\n",
       "    <tr>\n",
       "      <th>2</th>\n",
       "      <td>35:00.0</td>\n",
       "      <td>5.7</td>\n",
       "      <td>2011-08-18 00:35:00+00:00</td>\n",
       "      <td>-73.982738</td>\n",
       "      <td>40.761270</td>\n",
       "      <td>-73.991242</td>\n",
       "      <td>40.750562</td>\n",
       "      <td>2</td>\n",
       "    </tr>\n",
       "    <tr>\n",
       "      <th>3</th>\n",
       "      <td>30:42.0</td>\n",
       "      <td>7.7</td>\n",
       "      <td>2012-04-21 04:30:42+00:00</td>\n",
       "      <td>-73.987130</td>\n",
       "      <td>40.733143</td>\n",
       "      <td>-73.991567</td>\n",
       "      <td>40.758092</td>\n",
       "      <td>1</td>\n",
       "    </tr>\n",
       "    <tr>\n",
       "      <th>4</th>\n",
       "      <td>51:00.0</td>\n",
       "      <td>5.3</td>\n",
       "      <td>2010-03-09 07:51:00+00:00</td>\n",
       "      <td>-73.968095</td>\n",
       "      <td>40.768008</td>\n",
       "      <td>-73.956655</td>\n",
       "      <td>40.783762</td>\n",
       "      <td>1</td>\n",
       "    </tr>\n",
       "  </tbody>\n",
       "</table>\n",
       "</div>"
      ],
      "text/plain": [
       "  unique_id  amount       date_time_of_pickup  longitude_of_pickup  \\\n",
       "0   26:21.0     4.5 2009-06-15 17:26:21+00:00           -73.844311   \n",
       "1   52:16.0    16.9 2010-01-05 16:52:16+00:00           -74.016048   \n",
       "2   35:00.0     5.7 2011-08-18 00:35:00+00:00           -73.982738   \n",
       "3   30:42.0     7.7 2012-04-21 04:30:42+00:00           -73.987130   \n",
       "4   51:00.0     5.3 2010-03-09 07:51:00+00:00           -73.968095   \n",
       "\n",
       "   latitude_of_pickup  longitude_of_dropoff  latitude_of_dropoff  \\\n",
       "0           40.721319            -73.841610            40.712278   \n",
       "1           40.711303            -73.979268            40.782004   \n",
       "2           40.761270            -73.991242            40.750562   \n",
       "3           40.733143            -73.991567            40.758092   \n",
       "4           40.768008            -73.956655            40.783762   \n",
       "\n",
       "   no_of_passenger  \n",
       "0                1  \n",
       "1                1  \n",
       "2                2  \n",
       "3                1  \n",
       "4                1  "
      ]
     },
     "execution_count": 7,
     "metadata": {},
     "output_type": "execute_result"
    }
   ],
   "source": [
    "df = pd.read_csv('TaxiFare.csv',parse_dates=[2])\n",
    "df.head()"
   ]
  },
  {
   "cell_type": "code",
   "execution_count": 8,
   "id": "d09a928c",
   "metadata": {},
   "outputs": [
    {
     "data": {
      "text/plain": [
       "unique_id                            object\n",
       "amount                              float64\n",
       "date_time_of_pickup     datetime64[ns, UTC]\n",
       "longitude_of_pickup                 float64\n",
       "latitude_of_pickup                  float64\n",
       "longitude_of_dropoff                float64\n",
       "latitude_of_dropoff                 float64\n",
       "no_of_passenger                       int64\n",
       "dtype: object"
      ]
     },
     "execution_count": 8,
     "metadata": {},
     "output_type": "execute_result"
    }
   ],
   "source": [
    "df.dtypes\n",
    "# df['date_time_of_pickup'] = pd.to_datetime(df['date_time_of_pickup'])"
   ]
  },
  {
   "cell_type": "code",
   "execution_count": 9,
   "id": "69ca044c",
   "metadata": {},
   "outputs": [
    {
     "data": {
      "text/plain": [
       "(50000, 8)"
      ]
     },
     "execution_count": 9,
     "metadata": {},
     "output_type": "execute_result"
    }
   ],
   "source": [
    "df.shape"
   ]
  },
  {
   "cell_type": "markdown",
   "id": "6ce056ef",
   "metadata": {},
   "source": [
    "### Data Preprocessing"
   ]
  },
  {
   "cell_type": "markdown",
   "id": "c2fae951",
   "metadata": {},
   "source": [
    "#### 1) Handling Null Values"
   ]
  },
  {
   "cell_type": "code",
   "execution_count": 10,
   "id": "900212e7",
   "metadata": {},
   "outputs": [
    {
     "data": {
      "text/plain": [
       "unique_id               0\n",
       "amount                  0\n",
       "date_time_of_pickup     0\n",
       "longitude_of_pickup     0\n",
       "latitude_of_pickup      0\n",
       "longitude_of_dropoff    0\n",
       "latitude_of_dropoff     0\n",
       "no_of_passenger         0\n",
       "dtype: int64"
      ]
     },
     "execution_count": 10,
     "metadata": {},
     "output_type": "execute_result"
    }
   ],
   "source": [
    "df.isnull().sum()"
   ]
  },
  {
   "cell_type": "markdown",
   "id": "d9cad5a1",
   "metadata": {},
   "source": [
    "#### 2) Handling Duplicates Values"
   ]
  },
  {
   "cell_type": "code",
   "execution_count": 12,
   "id": "a1cad642",
   "metadata": {},
   "outputs": [
    {
     "data": {
      "text/plain": [
       "0"
      ]
     },
     "execution_count": 12,
     "metadata": {},
     "output_type": "execute_result"
    }
   ],
   "source": [
    "df.duplicated().sum()"
   ]
  },
  {
   "cell_type": "markdown",
   "id": "ab32522b",
   "metadata": {},
   "source": [
    "#### 3) Check data types"
   ]
  },
  {
   "cell_type": "code",
   "execution_count": 13,
   "id": "203050fb",
   "metadata": {},
   "outputs": [
    {
     "data": {
      "text/plain": [
       "unique_id                            object\n",
       "amount                              float64\n",
       "date_time_of_pickup     datetime64[ns, UTC]\n",
       "longitude_of_pickup                 float64\n",
       "latitude_of_pickup                  float64\n",
       "longitude_of_dropoff                float64\n",
       "latitude_of_dropoff                 float64\n",
       "no_of_passenger                       int64\n",
       "dtype: object"
      ]
     },
     "execution_count": 13,
     "metadata": {},
     "output_type": "execute_result"
    }
   ],
   "source": [
    "df.dtypes"
   ]
  },
  {
   "cell_type": "code",
   "execution_count": 14,
   "id": "5590bae7",
   "metadata": {},
   "outputs": [
    {
     "data": {
      "text/html": [
       "<div>\n",
       "<style scoped>\n",
       "    .dataframe tbody tr th:only-of-type {\n",
       "        vertical-align: middle;\n",
       "    }\n",
       "\n",
       "    .dataframe tbody tr th {\n",
       "        vertical-align: top;\n",
       "    }\n",
       "\n",
       "    .dataframe thead th {\n",
       "        text-align: right;\n",
       "    }\n",
       "</style>\n",
       "<table border=\"1\" class=\"dataframe\">\n",
       "  <thead>\n",
       "    <tr style=\"text-align: right;\">\n",
       "      <th></th>\n",
       "      <th>amount</th>\n",
       "      <th>longitude_of_pickup</th>\n",
       "      <th>latitude_of_pickup</th>\n",
       "      <th>longitude_of_dropoff</th>\n",
       "      <th>latitude_of_dropoff</th>\n",
       "      <th>no_of_passenger</th>\n",
       "    </tr>\n",
       "  </thead>\n",
       "  <tbody>\n",
       "    <tr>\n",
       "      <th>count</th>\n",
       "      <td>50000.000000</td>\n",
       "      <td>50000.000000</td>\n",
       "      <td>50000.000000</td>\n",
       "      <td>50000.000000</td>\n",
       "      <td>50000.000000</td>\n",
       "      <td>50000.000000</td>\n",
       "    </tr>\n",
       "    <tr>\n",
       "      <th>mean</th>\n",
       "      <td>11.364171</td>\n",
       "      <td>-72.509756</td>\n",
       "      <td>39.933759</td>\n",
       "      <td>-72.504616</td>\n",
       "      <td>39.926251</td>\n",
       "      <td>1.667840</td>\n",
       "    </tr>\n",
       "    <tr>\n",
       "      <th>std</th>\n",
       "      <td>9.685557</td>\n",
       "      <td>10.393860</td>\n",
       "      <td>6.224857</td>\n",
       "      <td>10.407570</td>\n",
       "      <td>6.014737</td>\n",
       "      <td>1.289195</td>\n",
       "    </tr>\n",
       "    <tr>\n",
       "      <th>min</th>\n",
       "      <td>-5.000000</td>\n",
       "      <td>-75.423848</td>\n",
       "      <td>-74.006893</td>\n",
       "      <td>-84.654241</td>\n",
       "      <td>-74.006377</td>\n",
       "      <td>0.000000</td>\n",
       "    </tr>\n",
       "    <tr>\n",
       "      <th>25%</th>\n",
       "      <td>6.000000</td>\n",
       "      <td>-73.992062</td>\n",
       "      <td>40.734880</td>\n",
       "      <td>-73.991152</td>\n",
       "      <td>40.734372</td>\n",
       "      <td>1.000000</td>\n",
       "    </tr>\n",
       "    <tr>\n",
       "      <th>50%</th>\n",
       "      <td>8.500000</td>\n",
       "      <td>-73.981840</td>\n",
       "      <td>40.752678</td>\n",
       "      <td>-73.980082</td>\n",
       "      <td>40.753372</td>\n",
       "      <td>1.000000</td>\n",
       "    </tr>\n",
       "    <tr>\n",
       "      <th>75%</th>\n",
       "      <td>12.500000</td>\n",
       "      <td>-73.967148</td>\n",
       "      <td>40.767360</td>\n",
       "      <td>-73.963584</td>\n",
       "      <td>40.768167</td>\n",
       "      <td>2.000000</td>\n",
       "    </tr>\n",
       "    <tr>\n",
       "      <th>max</th>\n",
       "      <td>200.000000</td>\n",
       "      <td>40.783472</td>\n",
       "      <td>401.083332</td>\n",
       "      <td>40.851027</td>\n",
       "      <td>43.415190</td>\n",
       "      <td>6.000000</td>\n",
       "    </tr>\n",
       "  </tbody>\n",
       "</table>\n",
       "</div>"
      ],
      "text/plain": [
       "             amount  longitude_of_pickup  latitude_of_pickup  \\\n",
       "count  50000.000000         50000.000000        50000.000000   \n",
       "mean      11.364171           -72.509756           39.933759   \n",
       "std        9.685557            10.393860            6.224857   \n",
       "min       -5.000000           -75.423848          -74.006893   \n",
       "25%        6.000000           -73.992062           40.734880   \n",
       "50%        8.500000           -73.981840           40.752678   \n",
       "75%       12.500000           -73.967148           40.767360   \n",
       "max      200.000000            40.783472          401.083332   \n",
       "\n",
       "       longitude_of_dropoff  latitude_of_dropoff  no_of_passenger  \n",
       "count          50000.000000         50000.000000     50000.000000  \n",
       "mean             -72.504616            39.926251         1.667840  \n",
       "std               10.407570             6.014737         1.289195  \n",
       "min              -84.654241           -74.006377         0.000000  \n",
       "25%              -73.991152            40.734372         1.000000  \n",
       "50%              -73.980082            40.753372         1.000000  \n",
       "75%              -73.963584            40.768167         2.000000  \n",
       "max               40.851027            43.415190         6.000000  "
      ]
     },
     "execution_count": 14,
     "metadata": {},
     "output_type": "execute_result"
    }
   ],
   "source": [
    "df.describe()"
   ]
  },
  {
   "cell_type": "markdown",
   "id": "bdbe5eae",
   "metadata": {},
   "source": [
    "#### Chcek the target Variable"
   ]
  },
  {
   "cell_type": "code",
   "execution_count": 15,
   "id": "8c61a445",
   "metadata": {},
   "outputs": [
    {
     "data": {
      "image/png": "[encoded data removed]",
      "text/plain": [
       "<Figure size 640x480 with 1 Axes>"
      ]
     },
     "metadata": {},
     "output_type": "display_data"
    }
   ],
   "source": [
    "plt.hist(df['amount'])\n",
    "plt.show()"
   ]
  },
  {
   "cell_type": "code",
   "execution_count": 20,
   "id": "33ec7596",
   "metadata": {},
   "outputs": [
    {
     "data": {
      "text/plain": [
       "(9, 8)"
      ]
     },
     "execution_count": 20,
     "metadata": {},
     "output_type": "execute_result"
    }
   ],
   "source": [
    "df[df['amount']<=0].shape"
   ]
  },
  {
   "cell_type": "code",
   "execution_count": 21,
   "id": "22b87f6d",
   "metadata": {},
   "outputs": [],
   "source": [
    "df1 = df.copy()"
   ]
  },
  {
   "cell_type": "code",
   "execution_count": 23,
   "id": "98a60376",
   "metadata": {},
   "outputs": [
    {
     "name": "stdout",
     "output_type": "stream",
     "text": [
      "(49991, 8)\n"
     ]
    }
   ],
   "source": [
    "df = df[df['amount']>0]\n",
    "print(df.shape)"
   ]
  },
  {
   "cell_type": "code",
   "execution_count": 24,
   "id": "de009a65",
   "metadata": {},
   "outputs": [
    {
     "data": {
      "image/png": "[encoded data removed]",
      "text/plain": [
       "<Figure size 640x480 with 1 Axes>"
      ]
     },
     "metadata": {},
     "output_type": "display_data"
    }
   ],
   "source": [
    "sns.distplot(df['amount'])\n",
    "plt.show()"
   ]
  },
  {
   "cell_type": "code",
   "execution_count": 25,
   "id": "0f6c9838",
   "metadata": {},
   "outputs": [
    {
     "data": {
      "text/plain": [
       "Index(['unique_id', 'amount', 'date_time_of_pickup', 'longitude_of_pickup',\n",
       "       'latitude_of_pickup', 'longitude_of_dropoff', 'latitude_of_dropoff',\n",
       "       'no_of_passenger'],\n",
       "      dtype='object')"
      ]
     },
     "execution_count": 25,
     "metadata": {},
     "output_type": "execute_result"
    }
   ],
   "source": [
    "df.columns"
   ]
  },
  {
   "cell_type": "code",
   "execution_count": 28,
   "id": "daa3acff",
   "metadata": {},
   "outputs": [
    {
     "data": {
      "image/png": "[encoded data removed]",
      "text/plain": [
       "<Figure size 640x480 with 1 Axes>"
      ]
     },
     "metadata": {},
     "output_type": "display_data"
    }
   ],
   "source": [
    "ax = sns.countplot(x=df['no_of_passenger'])\n",
    "ax.bar_label(ax.containers[0])\n",
    "plt.title('Count of Num of Passengers')\n",
    "plt.show()"
   ]
  },
  {
   "cell_type": "code",
   "execution_count": 29,
   "id": "38a8be58",
   "metadata": {},
   "outputs": [
    {
     "data": {
      "text/plain": [
       "0.03300059401069219"
      ]
     },
     "execution_count": 29,
     "metadata": {},
     "output_type": "execute_result"
    }
   ],
   "source": [
    "(165/499991)*100"
   ]
  },
  {
   "cell_type": "code",
   "execution_count": 30,
   "id": "6f46dd65",
   "metadata": {},
   "outputs": [
    {
     "data": {
      "text/plain": [
       "(49826, 8)"
      ]
     },
     "execution_count": 30,
     "metadata": {},
     "output_type": "execute_result"
    }
   ],
   "source": [
    "df = df[df['no_of_passenger']!=0]\n",
    "df.shape"
   ]
  },
  {
   "cell_type": "code",
   "execution_count": 31,
   "id": "539eadbf",
   "metadata": {},
   "outputs": [
    {
     "data": {
      "text/plain": [
       "Index(['unique_id', 'amount', 'date_time_of_pickup', 'longitude_of_pickup',\n",
       "       'latitude_of_pickup', 'longitude_of_dropoff', 'latitude_of_dropoff',\n",
       "       'no_of_passenger'],\n",
       "      dtype='object')"
      ]
     },
     "execution_count": 31,
     "metadata": {},
     "output_type": "execute_result"
    }
   ],
   "source": [
    "df.columns"
   ]
  },
  {
   "cell_type": "markdown",
   "id": "24077ba4",
   "metadata": {},
   "source": [
    "#### Rename the columns"
   ]
  },
  {
   "cell_type": "code",
   "execution_count": 32,
   "id": "eb62d5d2",
   "metadata": {},
   "outputs": [
    {
     "data": {
      "text/plain": [
       "Index(['id', 'amount', 'pickup_datetime', 'long_pickup', 'lat_pickup',\n",
       "       'long_drop', 'lat_drop', 'pass_count'],\n",
       "      dtype='object')"
      ]
     },
     "execution_count": 32,
     "metadata": {},
     "output_type": "execute_result"
    }
   ],
   "source": [
    "df.columns = ['id','amount','pickup_datetime',\n",
    "              'long_pickup','lat_pickup','long_drop','lat_drop','pass_count']\n",
    "df.columns"
   ]
  },
  {
   "cell_type": "markdown",
   "id": "cf3ce6ec",
   "metadata": {},
   "source": [
    "#### Note\n",
    "1) Latitude ranges from -90 to 90.<br>\n",
    "2) Longitude ranges from -180 to 180."
   ]
  },
  {
   "cell_type": "code",
   "execution_count": 34,
   "id": "0837d670",
   "metadata": {},
   "outputs": [
    {
     "data": {
      "text/plain": [
       "Index(['id', 'amount', 'pickup_datetime', 'long_pickup', 'lat_pickup',\n",
       "       'long_drop', 'lat_drop', 'pass_count'],\n",
       "      dtype='object')"
      ]
     },
     "execution_count": 34,
     "metadata": {},
     "output_type": "execute_result"
    }
   ],
   "source": [
    "df.columns"
   ]
  },
  {
   "cell_type": "code",
   "execution_count": 37,
   "id": "cfa893b2",
   "metadata": {},
   "outputs": [
    {
     "name": "stdout",
     "output_type": "stream",
     "text": [
      "(1, 8)\n",
      "(0, 8)\n"
     ]
    }
   ],
   "source": [
    "print(df[~df['lat_pickup'].between(-90,90)].shape)\n",
    "print(df[~df['lat_drop'].between(-90,90)].shape)"
   ]
  },
  {
   "cell_type": "code",
   "execution_count": 38,
   "id": "35b3b95d",
   "metadata": {},
   "outputs": [
    {
     "name": "stdout",
     "output_type": "stream",
     "text": [
      "(0, 8)\n",
      "(0, 8)\n"
     ]
    }
   ],
   "source": [
    "print(df[~df['long_pickup'].between(-180,180)].shape)\n",
    "print(df[~df['long_drop'].between(-180,180)].shape)"
   ]
  },
  {
   "cell_type": "code",
   "execution_count": 40,
   "id": "40c0ee93",
   "metadata": {},
   "outputs": [
    {
     "data": {
      "text/plain": [
       "(49825, 8)"
      ]
     },
     "execution_count": 40,
     "metadata": {},
     "output_type": "execute_result"
    }
   ],
   "source": [
    "df = df[(df['lat_pickup']>=-90) & (df['lat_pickup']<=90)]\n",
    "df.shape"
   ]
  },
  {
   "cell_type": "code",
   "execution_count": 41,
   "id": "86c850e8",
   "metadata": {},
   "outputs": [
    {
     "data": {
      "text/html": [
       "<div>\n",
       "<style scoped>\n",
       "    .dataframe tbody tr th:only-of-type {\n",
       "        vertical-align: middle;\n",
       "    }\n",
       "\n",
       "    .dataframe tbody tr th {\n",
       "        vertical-align: top;\n",
       "    }\n",
       "\n",
       "    .dataframe thead th {\n",
       "        text-align: right;\n",
       "    }\n",
       "</style>\n",
       "<table border=\"1\" class=\"dataframe\">\n",
       "  <thead>\n",
       "    <tr style=\"text-align: right;\">\n",
       "      <th></th>\n",
       "      <th>amount</th>\n",
       "      <th>long_pickup</th>\n",
       "      <th>lat_pickup</th>\n",
       "      <th>long_drop</th>\n",
       "      <th>lat_drop</th>\n",
       "      <th>pass_count</th>\n",
       "    </tr>\n",
       "  </thead>\n",
       "  <tbody>\n",
       "    <tr>\n",
       "      <th>count</th>\n",
       "      <td>49825.000000</td>\n",
       "      <td>49825.000000</td>\n",
       "      <td>49825.000000</td>\n",
       "      <td>49825.000000</td>\n",
       "      <td>49825.000000</td>\n",
       "      <td>49825.000000</td>\n",
       "    </tr>\n",
       "    <tr>\n",
       "      <th>mean</th>\n",
       "      <td>11.373212</td>\n",
       "      <td>-72.510557</td>\n",
       "      <td>39.926937</td>\n",
       "      <td>-72.506896</td>\n",
       "      <td>39.927448</td>\n",
       "      <td>1.673437</td>\n",
       "    </tr>\n",
       "    <tr>\n",
       "      <th>std</th>\n",
       "      <td>9.693602</td>\n",
       "      <td>10.391455</td>\n",
       "      <td>6.011390</td>\n",
       "      <td>10.400148</td>\n",
       "      <td>6.011808</td>\n",
       "      <td>1.287799</td>\n",
       "    </tr>\n",
       "    <tr>\n",
       "      <th>min</th>\n",
       "      <td>0.010000</td>\n",
       "      <td>-75.423848</td>\n",
       "      <td>-74.006893</td>\n",
       "      <td>-84.654241</td>\n",
       "      <td>-74.006377</td>\n",
       "      <td>1.000000</td>\n",
       "    </tr>\n",
       "    <tr>\n",
       "      <th>25%</th>\n",
       "      <td>6.000000</td>\n",
       "      <td>-73.992066</td>\n",
       "      <td>40.734890</td>\n",
       "      <td>-73.991151</td>\n",
       "      <td>40.734378</td>\n",
       "      <td>1.000000</td>\n",
       "    </tr>\n",
       "    <tr>\n",
       "      <th>50%</th>\n",
       "      <td>8.500000</td>\n",
       "      <td>-73.981838</td>\n",
       "      <td>40.752685</td>\n",
       "      <td>-73.980087</td>\n",
       "      <td>40.753375</td>\n",
       "      <td>1.000000</td>\n",
       "    </tr>\n",
       "    <tr>\n",
       "      <th>75%</th>\n",
       "      <td>12.500000</td>\n",
       "      <td>-73.967145</td>\n",
       "      <td>40.767363</td>\n",
       "      <td>-73.963620</td>\n",
       "      <td>40.768162</td>\n",
       "      <td>2.000000</td>\n",
       "    </tr>\n",
       "    <tr>\n",
       "      <th>max</th>\n",
       "      <td>200.000000</td>\n",
       "      <td>40.783472</td>\n",
       "      <td>43.098708</td>\n",
       "      <td>40.851027</td>\n",
       "      <td>43.415190</td>\n",
       "      <td>6.000000</td>\n",
       "    </tr>\n",
       "  </tbody>\n",
       "</table>\n",
       "</div>"
      ],
      "text/plain": [
       "             amount   long_pickup    lat_pickup     long_drop      lat_drop  \\\n",
       "count  49825.000000  49825.000000  49825.000000  49825.000000  49825.000000   \n",
       "mean      11.373212    -72.510557     39.926937    -72.506896     39.927448   \n",
       "std        9.693602     10.391455      6.011390     10.400148      6.011808   \n",
       "min        0.010000    -75.423848    -74.006893    -84.654241    -74.006377   \n",
       "25%        6.000000    -73.992066     40.734890    -73.991151     40.734378   \n",
       "50%        8.500000    -73.981838     40.752685    -73.980087     40.753375   \n",
       "75%       12.500000    -73.967145     40.767363    -73.963620     40.768162   \n",
       "max      200.000000     40.783472     43.098708     40.851027     43.415190   \n",
       "\n",
       "         pass_count  \n",
       "count  49825.000000  \n",
       "mean       1.673437  \n",
       "std        1.287799  \n",
       "min        1.000000  \n",
       "25%        1.000000  \n",
       "50%        1.000000  \n",
       "75%        2.000000  \n",
       "max        6.000000  "
      ]
     },
     "execution_count": 41,
     "metadata": {},
     "output_type": "execute_result"
    }
   ],
   "source": [
    "df.describe()"
   ]
  },
  {
   "cell_type": "markdown",
   "id": "30157572",
   "metadata": {},
   "source": [
    "#### Compute Distance between Pickup and Drop Location"
   ]
  },
  {
   "cell_type": "markdown",
   "id": "405fe857",
   "metadata": {},
   "source": [
    "#### Distance Formula\n",
    "Minkowski Distance(A(x1,y1),B(x2,y2))  = ( (|x2-x1|)^p + (|y2-y1|)^p ) ^(1/p), p is an int\n",
    "\n",
    "Manhattan Distance(A(x1,y1),B(x2,y2))  =  |x2-x1| + |y2-y1|\n",
    "\n",
    "Euclidean Distance(A(x1,y1),B(x2,y2))  =  sqrt((x2-x1)^2 + (y2-y1)^2)"
   ]
  },
  {
   "cell_type": "code",
   "execution_count": 45,
   "id": "66f9e101",
   "metadata": {},
   "outputs": [],
   "source": [
    "def minkowski_dist(x1,x2,y1,y2,p):\n",
    "    dist = (abs(x2-x1)**p + abs(y2-y1)**p)**(1/p)\n",
    "    return dist"
   ]
  },
  {
   "cell_type": "code",
   "execution_count": 49,
   "id": "02228a98",
   "metadata": {},
   "outputs": [
    {
     "data": {
      "text/html": [
       "<div>\n",
       "<style scoped>\n",
       "    .dataframe tbody tr th:only-of-type {\n",
       "        vertical-align: middle;\n",
       "    }\n",
       "\n",
       "    .dataframe tbody tr th {\n",
       "        vertical-align: top;\n",
       "    }\n",
       "\n",
       "    .dataframe thead th {\n",
       "        text-align: right;\n",
       "    }\n",
       "</style>\n",
       "<table border=\"1\" class=\"dataframe\">\n",
       "  <thead>\n",
       "    <tr style=\"text-align: right;\">\n",
       "      <th></th>\n",
       "      <th>id</th>\n",
       "      <th>amount</th>\n",
       "      <th>pickup_datetime</th>\n",
       "      <th>long_pickup</th>\n",
       "      <th>lat_pickup</th>\n",
       "      <th>long_drop</th>\n",
       "      <th>lat_drop</th>\n",
       "      <th>pass_count</th>\n",
       "      <th>Manhattan_dist</th>\n",
       "      <th>Euclidean_dist</th>\n",
       "    </tr>\n",
       "  </thead>\n",
       "  <tbody>\n",
       "    <tr>\n",
       "      <th>0</th>\n",
       "      <td>26:21.0</td>\n",
       "      <td>4.5</td>\n",
       "      <td>2009-06-15 17:26:21+00:00</td>\n",
       "      <td>-73.844311</td>\n",
       "      <td>40.721319</td>\n",
       "      <td>-73.841610</td>\n",
       "      <td>40.712278</td>\n",
       "      <td>1</td>\n",
       "      <td>0.011742</td>\n",
       "      <td>0.009436</td>\n",
       "    </tr>\n",
       "    <tr>\n",
       "      <th>1</th>\n",
       "      <td>52:16.0</td>\n",
       "      <td>16.9</td>\n",
       "      <td>2010-01-05 16:52:16+00:00</td>\n",
       "      <td>-74.016048</td>\n",
       "      <td>40.711303</td>\n",
       "      <td>-73.979268</td>\n",
       "      <td>40.782004</td>\n",
       "      <td>1</td>\n",
       "      <td>0.107481</td>\n",
       "      <td>0.079696</td>\n",
       "    </tr>\n",
       "    <tr>\n",
       "      <th>2</th>\n",
       "      <td>35:00.0</td>\n",
       "      <td>5.7</td>\n",
       "      <td>2011-08-18 00:35:00+00:00</td>\n",
       "      <td>-73.982738</td>\n",
       "      <td>40.761270</td>\n",
       "      <td>-73.991242</td>\n",
       "      <td>40.750562</td>\n",
       "      <td>2</td>\n",
       "      <td>0.019212</td>\n",
       "      <td>0.013674</td>\n",
       "    </tr>\n",
       "    <tr>\n",
       "      <th>3</th>\n",
       "      <td>30:42.0</td>\n",
       "      <td>7.7</td>\n",
       "      <td>2012-04-21 04:30:42+00:00</td>\n",
       "      <td>-73.987130</td>\n",
       "      <td>40.733143</td>\n",
       "      <td>-73.991567</td>\n",
       "      <td>40.758092</td>\n",
       "      <td>1</td>\n",
       "      <td>0.029386</td>\n",
       "      <td>0.025340</td>\n",
       "    </tr>\n",
       "    <tr>\n",
       "      <th>4</th>\n",
       "      <td>51:00.0</td>\n",
       "      <td>5.3</td>\n",
       "      <td>2010-03-09 07:51:00+00:00</td>\n",
       "      <td>-73.968095</td>\n",
       "      <td>40.768008</td>\n",
       "      <td>-73.956655</td>\n",
       "      <td>40.783762</td>\n",
       "      <td>1</td>\n",
       "      <td>0.027194</td>\n",
       "      <td>0.019470</td>\n",
       "    </tr>\n",
       "  </tbody>\n",
       "</table>\n",
       "</div>"
      ],
      "text/plain": [
       "        id  amount           pickup_datetime  long_pickup  lat_pickup  \\\n",
       "0  26:21.0     4.5 2009-06-15 17:26:21+00:00   -73.844311   40.721319   \n",
       "1  52:16.0    16.9 2010-01-05 16:52:16+00:00   -74.016048   40.711303   \n",
       "2  35:00.0     5.7 2011-08-18 00:35:00+00:00   -73.982738   40.761270   \n",
       "3  30:42.0     7.7 2012-04-21 04:30:42+00:00   -73.987130   40.733143   \n",
       "4  51:00.0     5.3 2010-03-09 07:51:00+00:00   -73.968095   40.768008   \n",
       "\n",
       "   long_drop   lat_drop  pass_count  Manhattan_dist  Euclidean_dist  \n",
       "0 -73.841610  40.712278           1        0.011742        0.009436  \n",
       "1 -73.979268  40.782004           1        0.107481        0.079696  \n",
       "2 -73.991242  40.750562           2        0.019212        0.013674  \n",
       "3 -73.991567  40.758092           1        0.029386        0.025340  \n",
       "4 -73.956655  40.783762           1        0.027194        0.019470  "
      ]
     },
     "execution_count": 49,
     "metadata": {},
     "output_type": "execute_result"
    }
   ],
   "source": [
    "df['Manhattan_dist'] = minkowski_dist(df['lat_pickup'],df['lat_drop'],\n",
    "                                      df['long_pickup'],df['long_drop'],1)\n",
    "df['Euclidean_dist'] = minkowski_dist(df['lat_pickup'],df['lat_drop'],\n",
    "                                      df['long_pickup'],df['long_drop'],2)\n",
    "df.head()"
   ]
  },
  {
   "cell_type": "code",
   "execution_count": 50,
   "id": "b59f24bf",
   "metadata": {},
   "outputs": [
    {
     "data": {
      "text/html": [
       "<div>\n",
       "<style scoped>\n",
       "    .dataframe tbody tr th:only-of-type {\n",
       "        vertical-align: middle;\n",
       "    }\n",
       "\n",
       "    .dataframe tbody tr th {\n",
       "        vertical-align: top;\n",
       "    }\n",
       "\n",
       "    .dataframe thead th {\n",
       "        text-align: right;\n",
       "    }\n",
       "</style>\n",
       "<table border=\"1\" class=\"dataframe\">\n",
       "  <thead>\n",
       "    <tr style=\"text-align: right;\">\n",
       "      <th></th>\n",
       "      <th>id</th>\n",
       "      <th>amount</th>\n",
       "      <th>pickup_datetime</th>\n",
       "      <th>long_pickup</th>\n",
       "      <th>lat_pickup</th>\n",
       "      <th>long_drop</th>\n",
       "      <th>lat_drop</th>\n",
       "      <th>pass_count</th>\n",
       "      <th>Manhattan_dist</th>\n",
       "      <th>Euclidean_dist</th>\n",
       "      <th>abs_lat_diff</th>\n",
       "      <th>abs_long_diff</th>\n",
       "    </tr>\n",
       "  </thead>\n",
       "  <tbody>\n",
       "    <tr>\n",
       "      <th>0</th>\n",
       "      <td>26:21.0</td>\n",
       "      <td>4.5</td>\n",
       "      <td>2009-06-15 17:26:21+00:00</td>\n",
       "      <td>-73.844311</td>\n",
       "      <td>40.721319</td>\n",
       "      <td>-73.841610</td>\n",
       "      <td>40.712278</td>\n",
       "      <td>1</td>\n",
       "      <td>0.011742</td>\n",
       "      <td>0.009436</td>\n",
       "      <td>0.009041</td>\n",
       "      <td>0.002701</td>\n",
       "    </tr>\n",
       "    <tr>\n",
       "      <th>1</th>\n",
       "      <td>52:16.0</td>\n",
       "      <td>16.9</td>\n",
       "      <td>2010-01-05 16:52:16+00:00</td>\n",
       "      <td>-74.016048</td>\n",
       "      <td>40.711303</td>\n",
       "      <td>-73.979268</td>\n",
       "      <td>40.782004</td>\n",
       "      <td>1</td>\n",
       "      <td>0.107481</td>\n",
       "      <td>0.079696</td>\n",
       "      <td>0.070701</td>\n",
       "      <td>0.036780</td>\n",
       "    </tr>\n",
       "    <tr>\n",
       "      <th>2</th>\n",
       "      <td>35:00.0</td>\n",
       "      <td>5.7</td>\n",
       "      <td>2011-08-18 00:35:00+00:00</td>\n",
       "      <td>-73.982738</td>\n",
       "      <td>40.761270</td>\n",
       "      <td>-73.991242</td>\n",
       "      <td>40.750562</td>\n",
       "      <td>2</td>\n",
       "      <td>0.019212</td>\n",
       "      <td>0.013674</td>\n",
       "      <td>0.010708</td>\n",
       "      <td>0.008504</td>\n",
       "    </tr>\n",
       "    <tr>\n",
       "      <th>3</th>\n",
       "      <td>30:42.0</td>\n",
       "      <td>7.7</td>\n",
       "      <td>2012-04-21 04:30:42+00:00</td>\n",
       "      <td>-73.987130</td>\n",
       "      <td>40.733143</td>\n",
       "      <td>-73.991567</td>\n",
       "      <td>40.758092</td>\n",
       "      <td>1</td>\n",
       "      <td>0.029386</td>\n",
       "      <td>0.025340</td>\n",
       "      <td>0.024949</td>\n",
       "      <td>0.004437</td>\n",
       "    </tr>\n",
       "    <tr>\n",
       "      <th>4</th>\n",
       "      <td>51:00.0</td>\n",
       "      <td>5.3</td>\n",
       "      <td>2010-03-09 07:51:00+00:00</td>\n",
       "      <td>-73.968095</td>\n",
       "      <td>40.768008</td>\n",
       "      <td>-73.956655</td>\n",
       "      <td>40.783762</td>\n",
       "      <td>1</td>\n",
       "      <td>0.027194</td>\n",
       "      <td>0.019470</td>\n",
       "      <td>0.015754</td>\n",
       "      <td>0.011440</td>\n",
       "    </tr>\n",
       "  </tbody>\n",
       "</table>\n",
       "</div>"
      ],
      "text/plain": [
       "        id  amount           pickup_datetime  long_pickup  lat_pickup  \\\n",
       "0  26:21.0     4.5 2009-06-15 17:26:21+00:00   -73.844311   40.721319   \n",
       "1  52:16.0    16.9 2010-01-05 16:52:16+00:00   -74.016048   40.711303   \n",
       "2  35:00.0     5.7 2011-08-18 00:35:00+00:00   -73.982738   40.761270   \n",
       "3  30:42.0     7.7 2012-04-21 04:30:42+00:00   -73.987130   40.733143   \n",
       "4  51:00.0     5.3 2010-03-09 07:51:00+00:00   -73.968095   40.768008   \n",
       "\n",
       "   long_drop   lat_drop  pass_count  Manhattan_dist  Euclidean_dist  \\\n",
       "0 -73.841610  40.712278           1        0.011742        0.009436   \n",
       "1 -73.979268  40.782004           1        0.107481        0.079696   \n",
       "2 -73.991242  40.750562           2        0.019212        0.013674   \n",
       "3 -73.991567  40.758092           1        0.029386        0.025340   \n",
       "4 -73.956655  40.783762           1        0.027194        0.019470   \n",
       "\n",
       "   abs_lat_diff  abs_long_diff  \n",
       "0      0.009041       0.002701  \n",
       "1      0.070701       0.036780  \n",
       "2      0.010708       0.008504  \n",
       "3      0.024949       0.004437  \n",
       "4      0.015754       0.011440  "
      ]
     },
     "execution_count": 50,
     "metadata": {},
     "output_type": "execute_result"
    }
   ],
   "source": [
    "df['abs_lat_diff'] = abs(df['lat_pickup'] - df['lat_drop'])\n",
    "df['abs_long_diff'] = abs(df['long_pickup'] - df['long_drop'])\n",
    "df.head()"
   ]
  },
  {
   "cell_type": "markdown",
   "id": "0b21c4a7",
   "metadata": {},
   "source": [
    "#### Haversine Distance\n",
    "\n",
    "We can calulate the distance in a sphere when latitudes and longitudes are given by Haversine formula\n",
    "\n",
    "haversine(θ) = sin²(θ/2)\n",
    "\n",
    "Eventually, the formula boils down to the following where φ is latitude, λ is longitude, R is earth’s radius (mean radius = 6,371km) to include latitude and longitude coordinates (A and B in this case).\n",
    "Latitude and longitude are measured in radians\n",
    "\n",
    "a = sin²((φB - φA)/2) + cos φA . cos φB . sin²((λB - λA)/2)\n",
    "\n",
    "c = 2 * atan2( √a, √(1−a) )\n",
    "\n",
    "d = R ⋅ c\n",
    "\n",
    "d = Haversine distance\n",
    "\n",
    "<img src=\"haversine_dist.png\">"
   ]
  },
  {
   "cell_type": "code",
   "execution_count": 52,
   "id": "0ab40f95",
   "metadata": {},
   "outputs": [
    {
     "name": "stdout",
     "output_type": "stream",
     "text": [
      "Collecting haversine\n",
      "  Downloading haversine-2.8.0-py2.py3-none-any.whl (7.7 kB)\n",
      "Installing collected packages: haversine\n",
      "Successfully installed haversine-2.8.0\n"
     ]
    },
    {
     "name": "stderr",
     "output_type": "stream",
     "text": [
      "WARNING: Ignoring invalid distribution -rotobuf (c:\\users\\dell\\anaconda3\\lib\\site-packages)\n",
      "WARNING: Ignoring invalid distribution -cipy (c:\\users\\dell\\anaconda3\\lib\\site-packages)\n",
      "WARNING: Ignoring invalid distribution -rotobuf (c:\\users\\dell\\anaconda3\\lib\\site-packages)\n",
      "WARNING: Ignoring invalid distribution -cipy (c:\\users\\dell\\anaconda3\\lib\\site-packages)\n",
      "WARNING: Ignoring invalid distribution -rotobuf (c:\\users\\dell\\anaconda3\\lib\\site-packages)\n",
      "WARNING: Ignoring invalid distribution -cipy (c:\\users\\dell\\anaconda3\\lib\\site-packages)\n",
      "WARNING: Ignoring invalid distribution -rotobuf (c:\\users\\dell\\anaconda3\\lib\\site-packages)\n",
      "WARNING: Ignoring invalid distribution -cipy (c:\\users\\dell\\anaconda3\\lib\\site-packages)\n",
      "WARNING: Ignoring invalid distribution -rotobuf (c:\\users\\dell\\anaconda3\\lib\\site-packages)\n",
      "WARNING: Ignoring invalid distribution -cipy (c:\\users\\dell\\anaconda3\\lib\\site-packages)\n",
      "WARNING: Ignoring invalid distribution -rotobuf (c:\\users\\dell\\anaconda3\\lib\\site-packages)\n",
      "WARNING: Ignoring invalid distribution -cipy (c:\\users\\dell\\anaconda3\\lib\\site-packages)\n",
      "WARNING: Ignoring invalid distribution -rotobuf (c:\\users\\dell\\anaconda3\\lib\\site-packages)\n",
      "WARNING: Ignoring invalid distribution -cipy (c:\\users\\dell\\anaconda3\\lib\\site-packages)\n"
     ]
    }
   ],
   "source": [
    "!pip install haversine"
   ]
  },
  {
   "cell_type": "markdown",
   "id": "be259672",
   "metadata": {},
   "source": [
    "#### Link to havesine \n",
    "https://pypi.org/project/haversine/"
   ]
  },
  {
   "cell_type": "code",
   "execution_count": 67,
   "id": "f39c4499",
   "metadata": {},
   "outputs": [],
   "source": [
    "def haversine_dist(lon1, lat1, lon2, lat2):\n",
    "    lon1, lat1, lon2, lat2 = map(np.radians, [lon1, lat1, lon2, lat2])\n",
    "    dlon = lon2 - lon1\n",
    "    dlat = lat2 - lat1\n",
    "    a = np.sin(dlat/2.0)**2 + np.cos(lat1) * np.cos(lat2) * np.sin(dlon/2.0)**2\n",
    "    c = 2*np.arctan(np.sqrt(a),np.sqrt(1-a))\n",
    "    km = 6378 * c\n",
    "    return km"
   ]
  },
  {
   "cell_type": "code",
   "execution_count": 69,
   "id": "ca38714d",
   "metadata": {},
   "outputs": [
    {
     "data": {
      "text/html": [
       "<div>\n",
       "<style scoped>\n",
       "    .dataframe tbody tr th:only-of-type {\n",
       "        vertical-align: middle;\n",
       "    }\n",
       "\n",
       "    .dataframe tbody tr th {\n",
       "        vertical-align: top;\n",
       "    }\n",
       "\n",
       "    .dataframe thead th {\n",
       "        text-align: right;\n",
       "    }\n",
       "</style>\n",
       "<table border=\"1\" class=\"dataframe\">\n",
       "  <thead>\n",
       "    <tr style=\"text-align: right;\">\n",
       "      <th></th>\n",
       "      <th>id</th>\n",
       "      <th>amount</th>\n",
       "      <th>pickup_datetime</th>\n",
       "      <th>long_pickup</th>\n",
       "      <th>lat_pickup</th>\n",
       "      <th>long_drop</th>\n",
       "      <th>lat_drop</th>\n",
       "      <th>pass_count</th>\n",
       "      <th>Manhattan_dist</th>\n",
       "      <th>Euclidean_dist</th>\n",
       "      <th>abs_lat_diff</th>\n",
       "      <th>abs_long_diff</th>\n",
       "      <th>Haversine_dist</th>\n",
       "    </tr>\n",
       "  </thead>\n",
       "  <tbody>\n",
       "    <tr>\n",
       "      <th>0</th>\n",
       "      <td>26:21.0</td>\n",
       "      <td>4.5</td>\n",
       "      <td>2009-06-15 17:26:21+00:00</td>\n",
       "      <td>-73.844311</td>\n",
       "      <td>40.721319</td>\n",
       "      <td>-73.841610</td>\n",
       "      <td>40.712278</td>\n",
       "      <td>1</td>\n",
       "      <td>0.011742</td>\n",
       "      <td>0.009436</td>\n",
       "      <td>0.009041</td>\n",
       "      <td>0.002701</td>\n",
       "      <td>1.031896</td>\n",
       "    </tr>\n",
       "    <tr>\n",
       "      <th>1</th>\n",
       "      <td>52:16.0</td>\n",
       "      <td>16.9</td>\n",
       "      <td>2010-01-05 16:52:16+00:00</td>\n",
       "      <td>-74.016048</td>\n",
       "      <td>40.711303</td>\n",
       "      <td>-73.979268</td>\n",
       "      <td>40.782004</td>\n",
       "      <td>1</td>\n",
       "      <td>0.107481</td>\n",
       "      <td>0.079696</td>\n",
       "      <td>0.070701</td>\n",
       "      <td>0.036780</td>\n",
       "      <td>8.459416</td>\n",
       "    </tr>\n",
       "    <tr>\n",
       "      <th>2</th>\n",
       "      <td>35:00.0</td>\n",
       "      <td>5.7</td>\n",
       "      <td>2011-08-18 00:35:00+00:00</td>\n",
       "      <td>-73.982738</td>\n",
       "      <td>40.761270</td>\n",
       "      <td>-73.991242</td>\n",
       "      <td>40.750562</td>\n",
       "      <td>2</td>\n",
       "      <td>0.019212</td>\n",
       "      <td>0.013674</td>\n",
       "      <td>0.010708</td>\n",
       "      <td>0.008504</td>\n",
       "      <td>1.391052</td>\n",
       "    </tr>\n",
       "  </tbody>\n",
       "</table>\n",
       "</div>"
      ],
      "text/plain": [
       "        id  amount           pickup_datetime  long_pickup  lat_pickup  \\\n",
       "0  26:21.0     4.5 2009-06-15 17:26:21+00:00   -73.844311   40.721319   \n",
       "1  52:16.0    16.9 2010-01-05 16:52:16+00:00   -74.016048   40.711303   \n",
       "2  35:00.0     5.7 2011-08-18 00:35:00+00:00   -73.982738   40.761270   \n",
       "\n",
       "   long_drop   lat_drop  pass_count  Manhattan_dist  Euclidean_dist  \\\n",
       "0 -73.841610  40.712278           1        0.011742        0.009436   \n",
       "1 -73.979268  40.782004           1        0.107481        0.079696   \n",
       "2 -73.991242  40.750562           2        0.019212        0.013674   \n",
       "\n",
       "   abs_lat_diff  abs_long_diff  Haversine_dist  \n",
       "0      0.009041       0.002701        1.031896  \n",
       "1      0.070701       0.036780        8.459416  \n",
       "2      0.010708       0.008504        1.391052  "
      ]
     },
     "execution_count": 69,
     "metadata": {},
     "output_type": "execute_result"
    }
   ],
   "source": [
    "df['Haversine_dist'] = haversine_dist(df['long_pickup'],df['lat_pickup'],\n",
    "                                     df['long_drop'],df['lat_drop'])\n",
    "df.head(3)"
   ]
  },
  {
   "cell_type": "markdown",
   "id": "4119f5a3",
   "metadata": {},
   "source": [
    "#### Generating Year, Quarter, Month, Day of Pickup"
   ]
  },
  {
   "cell_type": "code",
   "execution_count": 70,
   "id": "0cc38606",
   "metadata": {},
   "outputs": [
    {
     "data": {
      "text/html": [
       "<div>\n",
       "<style scoped>\n",
       "    .dataframe tbody tr th:only-of-type {\n",
       "        vertical-align: middle;\n",
       "    }\n",
       "\n",
       "    .dataframe tbody tr th {\n",
       "        vertical-align: top;\n",
       "    }\n",
       "\n",
       "    .dataframe thead th {\n",
       "        text-align: right;\n",
       "    }\n",
       "</style>\n",
       "<table border=\"1\" class=\"dataframe\">\n",
       "  <thead>\n",
       "    <tr style=\"text-align: right;\">\n",
       "      <th></th>\n",
       "      <th>id</th>\n",
       "      <th>amount</th>\n",
       "      <th>pickup_datetime</th>\n",
       "      <th>long_pickup</th>\n",
       "      <th>lat_pickup</th>\n",
       "      <th>long_drop</th>\n",
       "      <th>lat_drop</th>\n",
       "      <th>pass_count</th>\n",
       "      <th>Manhattan_dist</th>\n",
       "      <th>Euclidean_dist</th>\n",
       "      <th>abs_lat_diff</th>\n",
       "      <th>abs_long_diff</th>\n",
       "      <th>Haversine_dist</th>\n",
       "      <th>Year</th>\n",
       "      <th>Qtr</th>\n",
       "      <th>Month</th>\n",
       "      <th>Day</th>\n",
       "    </tr>\n",
       "  </thead>\n",
       "  <tbody>\n",
       "    <tr>\n",
       "      <th>0</th>\n",
       "      <td>26:21.0</td>\n",
       "      <td>4.5</td>\n",
       "      <td>2009-06-15 17:26:21+00:00</td>\n",
       "      <td>-73.844311</td>\n",
       "      <td>40.721319</td>\n",
       "      <td>-73.841610</td>\n",
       "      <td>40.712278</td>\n",
       "      <td>1</td>\n",
       "      <td>0.011742</td>\n",
       "      <td>0.009436</td>\n",
       "      <td>0.009041</td>\n",
       "      <td>0.002701</td>\n",
       "      <td>1.031896</td>\n",
       "      <td>2009</td>\n",
       "      <td>2</td>\n",
       "      <td>6</td>\n",
       "      <td>15</td>\n",
       "    </tr>\n",
       "    <tr>\n",
       "      <th>1</th>\n",
       "      <td>52:16.0</td>\n",
       "      <td>16.9</td>\n",
       "      <td>2010-01-05 16:52:16+00:00</td>\n",
       "      <td>-74.016048</td>\n",
       "      <td>40.711303</td>\n",
       "      <td>-73.979268</td>\n",
       "      <td>40.782004</td>\n",
       "      <td>1</td>\n",
       "      <td>0.107481</td>\n",
       "      <td>0.079696</td>\n",
       "      <td>0.070701</td>\n",
       "      <td>0.036780</td>\n",
       "      <td>8.459416</td>\n",
       "      <td>2010</td>\n",
       "      <td>1</td>\n",
       "      <td>1</td>\n",
       "      <td>5</td>\n",
       "    </tr>\n",
       "    <tr>\n",
       "      <th>2</th>\n",
       "      <td>35:00.0</td>\n",
       "      <td>5.7</td>\n",
       "      <td>2011-08-18 00:35:00+00:00</td>\n",
       "      <td>-73.982738</td>\n",
       "      <td>40.761270</td>\n",
       "      <td>-73.991242</td>\n",
       "      <td>40.750562</td>\n",
       "      <td>2</td>\n",
       "      <td>0.019212</td>\n",
       "      <td>0.013674</td>\n",
       "      <td>0.010708</td>\n",
       "      <td>0.008504</td>\n",
       "      <td>1.391052</td>\n",
       "      <td>2011</td>\n",
       "      <td>3</td>\n",
       "      <td>8</td>\n",
       "      <td>18</td>\n",
       "    </tr>\n",
       "    <tr>\n",
       "      <th>3</th>\n",
       "      <td>30:42.0</td>\n",
       "      <td>7.7</td>\n",
       "      <td>2012-04-21 04:30:42+00:00</td>\n",
       "      <td>-73.987130</td>\n",
       "      <td>40.733143</td>\n",
       "      <td>-73.991567</td>\n",
       "      <td>40.758092</td>\n",
       "      <td>1</td>\n",
       "      <td>0.029386</td>\n",
       "      <td>0.025340</td>\n",
       "      <td>0.024949</td>\n",
       "      <td>0.004437</td>\n",
       "      <td>2.802346</td>\n",
       "      <td>2012</td>\n",
       "      <td>2</td>\n",
       "      <td>4</td>\n",
       "      <td>21</td>\n",
       "    </tr>\n",
       "    <tr>\n",
       "      <th>4</th>\n",
       "      <td>51:00.0</td>\n",
       "      <td>5.3</td>\n",
       "      <td>2010-03-09 07:51:00+00:00</td>\n",
       "      <td>-73.968095</td>\n",
       "      <td>40.768008</td>\n",
       "      <td>-73.956655</td>\n",
       "      <td>40.783762</td>\n",
       "      <td>1</td>\n",
       "      <td>0.027194</td>\n",
       "      <td>0.019470</td>\n",
       "      <td>0.015754</td>\n",
       "      <td>0.011440</td>\n",
       "      <td>2.001353</td>\n",
       "      <td>2010</td>\n",
       "      <td>1</td>\n",
       "      <td>3</td>\n",
       "      <td>9</td>\n",
       "    </tr>\n",
       "  </tbody>\n",
       "</table>\n",
       "</div>"
      ],
      "text/plain": [
       "        id  amount           pickup_datetime  long_pickup  lat_pickup  \\\n",
       "0  26:21.0     4.5 2009-06-15 17:26:21+00:00   -73.844311   40.721319   \n",
       "1  52:16.0    16.9 2010-01-05 16:52:16+00:00   -74.016048   40.711303   \n",
       "2  35:00.0     5.7 2011-08-18 00:35:00+00:00   -73.982738   40.761270   \n",
       "3  30:42.0     7.7 2012-04-21 04:30:42+00:00   -73.987130   40.733143   \n",
       "4  51:00.0     5.3 2010-03-09 07:51:00+00:00   -73.968095   40.768008   \n",
       "\n",
       "   long_drop   lat_drop  pass_count  Manhattan_dist  Euclidean_dist  \\\n",
       "0 -73.841610  40.712278           1        0.011742        0.009436   \n",
       "1 -73.979268  40.782004           1        0.107481        0.079696   \n",
       "2 -73.991242  40.750562           2        0.019212        0.013674   \n",
       "3 -73.991567  40.758092           1        0.029386        0.025340   \n",
       "4 -73.956655  40.783762           1        0.027194        0.019470   \n",
       "\n",
       "   abs_lat_diff  abs_long_diff  Haversine_dist  Year  Qtr  Month  Day  \n",
       "0      0.009041       0.002701        1.031896  2009    2      6   15  \n",
       "1      0.070701       0.036780        8.459416  2010    1      1    5  \n",
       "2      0.010708       0.008504        1.391052  2011    3      8   18  \n",
       "3      0.024949       0.004437        2.802346  2012    2      4   21  \n",
       "4      0.015754       0.011440        2.001353  2010    1      3    9  "
      ]
     },
     "execution_count": 70,
     "metadata": {},
     "output_type": "execute_result"
    }
   ],
   "source": [
    "df['Year'] = df['pickup_datetime'].dt.year\n",
    "df['Qtr'] = df['pickup_datetime'].dt.quarter\n",
    "df['Month'] = df['pickup_datetime'].dt.month\n",
    "df['Day'] = df['pickup_datetime'].dt.day\n",
    "df.head()"
   ]
  },
  {
   "cell_type": "code",
   "execution_count": 71,
   "id": "ecd342c1",
   "metadata": {},
   "outputs": [
    {
     "data": {
      "text/html": [
       "<div>\n",
       "<style scoped>\n",
       "    .dataframe tbody tr th:only-of-type {\n",
       "        vertical-align: middle;\n",
       "    }\n",
       "\n",
       "    .dataframe tbody tr th {\n",
       "        vertical-align: top;\n",
       "    }\n",
       "\n",
       "    .dataframe thead th {\n",
       "        text-align: right;\n",
       "    }\n",
       "</style>\n",
       "<table border=\"1\" class=\"dataframe\">\n",
       "  <thead>\n",
       "    <tr style=\"text-align: right;\">\n",
       "      <th></th>\n",
       "      <th>id</th>\n",
       "      <th>amount</th>\n",
       "      <th>pickup_datetime</th>\n",
       "      <th>long_pickup</th>\n",
       "      <th>lat_pickup</th>\n",
       "      <th>long_drop</th>\n",
       "      <th>lat_drop</th>\n",
       "      <th>pass_count</th>\n",
       "      <th>Manhattan_dist</th>\n",
       "      <th>Euclidean_dist</th>\n",
       "      <th>abs_lat_diff</th>\n",
       "      <th>abs_long_diff</th>\n",
       "      <th>Haversine_dist</th>\n",
       "      <th>Year</th>\n",
       "      <th>Qtr</th>\n",
       "      <th>Month</th>\n",
       "      <th>Day</th>\n",
       "      <th>Hour</th>\n",
       "    </tr>\n",
       "  </thead>\n",
       "  <tbody>\n",
       "    <tr>\n",
       "      <th>0</th>\n",
       "      <td>26:21.0</td>\n",
       "      <td>4.5</td>\n",
       "      <td>2009-06-15 17:26:21+00:00</td>\n",
       "      <td>-73.844311</td>\n",
       "      <td>40.721319</td>\n",
       "      <td>-73.841610</td>\n",
       "      <td>40.712278</td>\n",
       "      <td>1</td>\n",
       "      <td>0.011742</td>\n",
       "      <td>0.009436</td>\n",
       "      <td>0.009041</td>\n",
       "      <td>0.002701</td>\n",
       "      <td>1.031896</td>\n",
       "      <td>2009</td>\n",
       "      <td>2</td>\n",
       "      <td>6</td>\n",
       "      <td>15</td>\n",
       "      <td>17</td>\n",
       "    </tr>\n",
       "    <tr>\n",
       "      <th>1</th>\n",
       "      <td>52:16.0</td>\n",
       "      <td>16.9</td>\n",
       "      <td>2010-01-05 16:52:16+00:00</td>\n",
       "      <td>-74.016048</td>\n",
       "      <td>40.711303</td>\n",
       "      <td>-73.979268</td>\n",
       "      <td>40.782004</td>\n",
       "      <td>1</td>\n",
       "      <td>0.107481</td>\n",
       "      <td>0.079696</td>\n",
       "      <td>0.070701</td>\n",
       "      <td>0.036780</td>\n",
       "      <td>8.459416</td>\n",
       "      <td>2010</td>\n",
       "      <td>1</td>\n",
       "      <td>1</td>\n",
       "      <td>5</td>\n",
       "      <td>16</td>\n",
       "    </tr>\n",
       "    <tr>\n",
       "      <th>2</th>\n",
       "      <td>35:00.0</td>\n",
       "      <td>5.7</td>\n",
       "      <td>2011-08-18 00:35:00+00:00</td>\n",
       "      <td>-73.982738</td>\n",
       "      <td>40.761270</td>\n",
       "      <td>-73.991242</td>\n",
       "      <td>40.750562</td>\n",
       "      <td>2</td>\n",
       "      <td>0.019212</td>\n",
       "      <td>0.013674</td>\n",
       "      <td>0.010708</td>\n",
       "      <td>0.008504</td>\n",
       "      <td>1.391052</td>\n",
       "      <td>2011</td>\n",
       "      <td>3</td>\n",
       "      <td>8</td>\n",
       "      <td>18</td>\n",
       "      <td>0</td>\n",
       "    </tr>\n",
       "    <tr>\n",
       "      <th>3</th>\n",
       "      <td>30:42.0</td>\n",
       "      <td>7.7</td>\n",
       "      <td>2012-04-21 04:30:42+00:00</td>\n",
       "      <td>-73.987130</td>\n",
       "      <td>40.733143</td>\n",
       "      <td>-73.991567</td>\n",
       "      <td>40.758092</td>\n",
       "      <td>1</td>\n",
       "      <td>0.029386</td>\n",
       "      <td>0.025340</td>\n",
       "      <td>0.024949</td>\n",
       "      <td>0.004437</td>\n",
       "      <td>2.802346</td>\n",
       "      <td>2012</td>\n",
       "      <td>2</td>\n",
       "      <td>4</td>\n",
       "      <td>21</td>\n",
       "      <td>4</td>\n",
       "    </tr>\n",
       "    <tr>\n",
       "      <th>4</th>\n",
       "      <td>51:00.0</td>\n",
       "      <td>5.3</td>\n",
       "      <td>2010-03-09 07:51:00+00:00</td>\n",
       "      <td>-73.968095</td>\n",
       "      <td>40.768008</td>\n",
       "      <td>-73.956655</td>\n",
       "      <td>40.783762</td>\n",
       "      <td>1</td>\n",
       "      <td>0.027194</td>\n",
       "      <td>0.019470</td>\n",
       "      <td>0.015754</td>\n",
       "      <td>0.011440</td>\n",
       "      <td>2.001353</td>\n",
       "      <td>2010</td>\n",
       "      <td>1</td>\n",
       "      <td>3</td>\n",
       "      <td>9</td>\n",
       "      <td>7</td>\n",
       "    </tr>\n",
       "  </tbody>\n",
       "</table>\n",
       "</div>"
      ],
      "text/plain": [
       "        id  amount           pickup_datetime  long_pickup  lat_pickup  \\\n",
       "0  26:21.0     4.5 2009-06-15 17:26:21+00:00   -73.844311   40.721319   \n",
       "1  52:16.0    16.9 2010-01-05 16:52:16+00:00   -74.016048   40.711303   \n",
       "2  35:00.0     5.7 2011-08-18 00:35:00+00:00   -73.982738   40.761270   \n",
       "3  30:42.0     7.7 2012-04-21 04:30:42+00:00   -73.987130   40.733143   \n",
       "4  51:00.0     5.3 2010-03-09 07:51:00+00:00   -73.968095   40.768008   \n",
       "\n",
       "   long_drop   lat_drop  pass_count  Manhattan_dist  Euclidean_dist  \\\n",
       "0 -73.841610  40.712278           1        0.011742        0.009436   \n",
       "1 -73.979268  40.782004           1        0.107481        0.079696   \n",
       "2 -73.991242  40.750562           2        0.019212        0.013674   \n",
       "3 -73.991567  40.758092           1        0.029386        0.025340   \n",
       "4 -73.956655  40.783762           1        0.027194        0.019470   \n",
       "\n",
       "   abs_lat_diff  abs_long_diff  Haversine_dist  Year  Qtr  Month  Day  Hour  \n",
       "0      0.009041       0.002701        1.031896  2009    2      6   15    17  \n",
       "1      0.070701       0.036780        8.459416  2010    1      1    5    16  \n",
       "2      0.010708       0.008504        1.391052  2011    3      8   18     0  \n",
       "3      0.024949       0.004437        2.802346  2012    2      4   21     4  \n",
       "4      0.015754       0.011440        2.001353  2010    1      3    9     7  "
      ]
     },
     "execution_count": 71,
     "metadata": {},
     "output_type": "execute_result"
    }
   ],
   "source": [
    "df['Hour'] = df['pickup_datetime'].dt.hour\n",
    "df.head()"
   ]
  },
  {
   "cell_type": "code",
   "execution_count": 73,
   "id": "d1b02a5a",
   "metadata": {},
   "outputs": [
    {
     "data": {
      "text/plain": [
       "array([17, 16,  0,  4,  7,  9, 20, 13,  1, 11, 19, 12, 14, 18, 15,  6, 21,\n",
       "       23,  3,  8, 10,  2, 22,  5], dtype=int64)"
      ]
     },
     "execution_count": 73,
     "metadata": {},
     "output_type": "execute_result"
    }
   ],
   "source": [
    "df['Hour'].unique()"
   ]
  },
  {
   "cell_type": "code",
   "execution_count": 74,
   "id": "55f3a56e",
   "metadata": {},
   "outputs": [],
   "source": [
    "def hour_quarter(x):\n",
    "    if x>0 and x<=6:\n",
    "        return 1     # ' Late Night or Early_Morning'\n",
    "    elif x>6 and x<=12:\n",
    "        return 2    # 'Morning'\n",
    "    elif x>12 and x<=18:\n",
    "        return 3    # \"Afternoon/Evening\"\n",
    "    else:\n",
    "        return 4    # \"Late Afternoon or Night\""
   ]
  },
  {
   "cell_type": "code",
   "execution_count": 75,
   "id": "8d2d5403",
   "metadata": {},
   "outputs": [],
   "source": [
    "df['Hour_Qtr'] = df['Hour'].apply(hour_quarter)"
   ]
  },
  {
   "cell_type": "code",
   "execution_count": 76,
   "id": "50a8dbbf",
   "metadata": {},
   "outputs": [
    {
     "data": {
      "text/plain": [
       "4    15910\n",
       "3    14858\n",
       "2    13521\n",
       "1     5536\n",
       "Name: Hour_Qtr, dtype: int64"
      ]
     },
     "execution_count": 76,
     "metadata": {},
     "output_type": "execute_result"
    }
   ],
   "source": [
    "df['Hour_Qtr'].value_counts()"
   ]
  },
  {
   "cell_type": "code",
   "execution_count": null,
   "id": "cb3f344f",
   "metadata": {},
   "outputs": [],
   "source": [
    "# is_weekday = (weekday=1,weekend=0)\n",
    "# is_weekend = (weekday=0,weekend=1)"
   ]
  },
  {
   "cell_type": "code",
   "execution_count": 79,
   "id": "6e371596",
   "metadata": {},
   "outputs": [
    {
     "data": {
      "text/html": [
       "<div>\n",
       "<style scoped>\n",
       "    .dataframe tbody tr th:only-of-type {\n",
       "        vertical-align: middle;\n",
       "    }\n",
       "\n",
       "    .dataframe tbody tr th {\n",
       "        vertical-align: top;\n",
       "    }\n",
       "\n",
       "    .dataframe thead th {\n",
       "        text-align: right;\n",
       "    }\n",
       "</style>\n",
       "<table border=\"1\" class=\"dataframe\">\n",
       "  <thead>\n",
       "    <tr style=\"text-align: right;\">\n",
       "      <th></th>\n",
       "      <th>Date</th>\n",
       "      <th>Dayof_Week</th>\n",
       "    </tr>\n",
       "  </thead>\n",
       "  <tbody>\n",
       "    <tr>\n",
       "      <th>0</th>\n",
       "      <td>2023-12-18</td>\n",
       "      <td>0</td>\n",
       "    </tr>\n",
       "    <tr>\n",
       "      <th>1</th>\n",
       "      <td>2023-12-19</td>\n",
       "      <td>1</td>\n",
       "    </tr>\n",
       "    <tr>\n",
       "      <th>2</th>\n",
       "      <td>2023-12-20</td>\n",
       "      <td>2</td>\n",
       "    </tr>\n",
       "    <tr>\n",
       "      <th>3</th>\n",
       "      <td>2023-12-21</td>\n",
       "      <td>3</td>\n",
       "    </tr>\n",
       "    <tr>\n",
       "      <th>4</th>\n",
       "      <td>2023-12-22</td>\n",
       "      <td>4</td>\n",
       "    </tr>\n",
       "    <tr>\n",
       "      <th>5</th>\n",
       "      <td>2023-12-23</td>\n",
       "      <td>5</td>\n",
       "    </tr>\n",
       "    <tr>\n",
       "      <th>6</th>\n",
       "      <td>2023-12-24</td>\n",
       "      <td>6</td>\n",
       "    </tr>\n",
       "  </tbody>\n",
       "</table>\n",
       "</div>"
      ],
      "text/plain": [
       "        Date  Dayof_Week\n",
       "0 2023-12-18           0\n",
       "1 2023-12-19           1\n",
       "2 2023-12-20           2\n",
       "3 2023-12-21           3\n",
       "4 2023-12-22           4\n",
       "5 2023-12-23           5\n",
       "6 2023-12-24           6"
      ]
     },
     "execution_count": 79,
     "metadata": {},
     "output_type": "execute_result"
    }
   ],
   "source": [
    "w = pd.DataFrame(pd.date_range(start='2023-12-18',end='2023-12-24'))\n",
    "w.columns=['Date']\n",
    "w['Dayof_Week'] = w['Date'].dt.dayofweek\n",
    "w"
   ]
  },
  {
   "cell_type": "code",
   "execution_count": 80,
   "id": "3341c480",
   "metadata": {},
   "outputs": [
    {
     "data": {
      "text/html": [
       "<div>\n",
       "<style scoped>\n",
       "    .dataframe tbody tr th:only-of-type {\n",
       "        vertical-align: middle;\n",
       "    }\n",
       "\n",
       "    .dataframe tbody tr th {\n",
       "        vertical-align: top;\n",
       "    }\n",
       "\n",
       "    .dataframe thead th {\n",
       "        text-align: right;\n",
       "    }\n",
       "</style>\n",
       "<table border=\"1\" class=\"dataframe\">\n",
       "  <thead>\n",
       "    <tr style=\"text-align: right;\">\n",
       "      <th></th>\n",
       "      <th>id</th>\n",
       "      <th>amount</th>\n",
       "      <th>pickup_datetime</th>\n",
       "      <th>long_pickup</th>\n",
       "      <th>lat_pickup</th>\n",
       "      <th>long_drop</th>\n",
       "      <th>lat_drop</th>\n",
       "      <th>pass_count</th>\n",
       "      <th>Manhattan_dist</th>\n",
       "      <th>Euclidean_dist</th>\n",
       "      <th>abs_lat_diff</th>\n",
       "      <th>abs_long_diff</th>\n",
       "      <th>Haversine_dist</th>\n",
       "      <th>Year</th>\n",
       "      <th>Qtr</th>\n",
       "      <th>Month</th>\n",
       "      <th>Day</th>\n",
       "      <th>Hour</th>\n",
       "      <th>Hour_Qtr</th>\n",
       "      <th>Is_Weekend</th>\n",
       "    </tr>\n",
       "  </thead>\n",
       "  <tbody>\n",
       "    <tr>\n",
       "      <th>0</th>\n",
       "      <td>26:21.0</td>\n",
       "      <td>4.5</td>\n",
       "      <td>2009-06-15 17:26:21+00:00</td>\n",
       "      <td>-73.844311</td>\n",
       "      <td>40.721319</td>\n",
       "      <td>-73.841610</td>\n",
       "      <td>40.712278</td>\n",
       "      <td>1</td>\n",
       "      <td>0.011742</td>\n",
       "      <td>0.009436</td>\n",
       "      <td>0.009041</td>\n",
       "      <td>0.002701</td>\n",
       "      <td>1.031896</td>\n",
       "      <td>2009</td>\n",
       "      <td>2</td>\n",
       "      <td>6</td>\n",
       "      <td>15</td>\n",
       "      <td>17</td>\n",
       "      <td>3</td>\n",
       "      <td>0</td>\n",
       "    </tr>\n",
       "    <tr>\n",
       "      <th>1</th>\n",
       "      <td>52:16.0</td>\n",
       "      <td>16.9</td>\n",
       "      <td>2010-01-05 16:52:16+00:00</td>\n",
       "      <td>-74.016048</td>\n",
       "      <td>40.711303</td>\n",
       "      <td>-73.979268</td>\n",
       "      <td>40.782004</td>\n",
       "      <td>1</td>\n",
       "      <td>0.107481</td>\n",
       "      <td>0.079696</td>\n",
       "      <td>0.070701</td>\n",
       "      <td>0.036780</td>\n",
       "      <td>8.459416</td>\n",
       "      <td>2010</td>\n",
       "      <td>1</td>\n",
       "      <td>1</td>\n",
       "      <td>5</td>\n",
       "      <td>16</td>\n",
       "      <td>3</td>\n",
       "      <td>0</td>\n",
       "    </tr>\n",
       "    <tr>\n",
       "      <th>2</th>\n",
       "      <td>35:00.0</td>\n",
       "      <td>5.7</td>\n",
       "      <td>2011-08-18 00:35:00+00:00</td>\n",
       "      <td>-73.982738</td>\n",
       "      <td>40.761270</td>\n",
       "      <td>-73.991242</td>\n",
       "      <td>40.750562</td>\n",
       "      <td>2</td>\n",
       "      <td>0.019212</td>\n",
       "      <td>0.013674</td>\n",
       "      <td>0.010708</td>\n",
       "      <td>0.008504</td>\n",
       "      <td>1.391052</td>\n",
       "      <td>2011</td>\n",
       "      <td>3</td>\n",
       "      <td>8</td>\n",
       "      <td>18</td>\n",
       "      <td>0</td>\n",
       "      <td>4</td>\n",
       "      <td>0</td>\n",
       "    </tr>\n",
       "    <tr>\n",
       "      <th>3</th>\n",
       "      <td>30:42.0</td>\n",
       "      <td>7.7</td>\n",
       "      <td>2012-04-21 04:30:42+00:00</td>\n",
       "      <td>-73.987130</td>\n",
       "      <td>40.733143</td>\n",
       "      <td>-73.991567</td>\n",
       "      <td>40.758092</td>\n",
       "      <td>1</td>\n",
       "      <td>0.029386</td>\n",
       "      <td>0.025340</td>\n",
       "      <td>0.024949</td>\n",
       "      <td>0.004437</td>\n",
       "      <td>2.802346</td>\n",
       "      <td>2012</td>\n",
       "      <td>2</td>\n",
       "      <td>4</td>\n",
       "      <td>21</td>\n",
       "      <td>4</td>\n",
       "      <td>1</td>\n",
       "      <td>1</td>\n",
       "    </tr>\n",
       "    <tr>\n",
       "      <th>4</th>\n",
       "      <td>51:00.0</td>\n",
       "      <td>5.3</td>\n",
       "      <td>2010-03-09 07:51:00+00:00</td>\n",
       "      <td>-73.968095</td>\n",
       "      <td>40.768008</td>\n",
       "      <td>-73.956655</td>\n",
       "      <td>40.783762</td>\n",
       "      <td>1</td>\n",
       "      <td>0.027194</td>\n",
       "      <td>0.019470</td>\n",
       "      <td>0.015754</td>\n",
       "      <td>0.011440</td>\n",
       "      <td>2.001353</td>\n",
       "      <td>2010</td>\n",
       "      <td>1</td>\n",
       "      <td>3</td>\n",
       "      <td>9</td>\n",
       "      <td>7</td>\n",
       "      <td>2</td>\n",
       "      <td>0</td>\n",
       "    </tr>\n",
       "  </tbody>\n",
       "</table>\n",
       "</div>"
      ],
      "text/plain": [
       "        id  amount           pickup_datetime  long_pickup  lat_pickup  \\\n",
       "0  26:21.0     4.5 2009-06-15 17:26:21+00:00   -73.844311   40.721319   \n",
       "1  52:16.0    16.9 2010-01-05 16:52:16+00:00   -74.016048   40.711303   \n",
       "2  35:00.0     5.7 2011-08-18 00:35:00+00:00   -73.982738   40.761270   \n",
       "3  30:42.0     7.7 2012-04-21 04:30:42+00:00   -73.987130   40.733143   \n",
       "4  51:00.0     5.3 2010-03-09 07:51:00+00:00   -73.968095   40.768008   \n",
       "\n",
       "   long_drop   lat_drop  pass_count  Manhattan_dist  Euclidean_dist  \\\n",
       "0 -73.841610  40.712278           1        0.011742        0.009436   \n",
       "1 -73.979268  40.782004           1        0.107481        0.079696   \n",
       "2 -73.991242  40.750562           2        0.019212        0.013674   \n",
       "3 -73.991567  40.758092           1        0.029386        0.025340   \n",
       "4 -73.956655  40.783762           1        0.027194        0.019470   \n",
       "\n",
       "   abs_lat_diff  abs_long_diff  Haversine_dist  Year  Qtr  Month  Day  Hour  \\\n",
       "0      0.009041       0.002701        1.031896  2009    2      6   15    17   \n",
       "1      0.070701       0.036780        8.459416  2010    1      1    5    16   \n",
       "2      0.010708       0.008504        1.391052  2011    3      8   18     0   \n",
       "3      0.024949       0.004437        2.802346  2012    2      4   21     4   \n",
       "4      0.015754       0.011440        2.001353  2010    1      3    9     7   \n",
       "\n",
       "   Hour_Qtr  Is_Weekend  \n",
       "0         3           0  \n",
       "1         3           0  \n",
       "2         4           0  \n",
       "3         1           1  \n",
       "4         2           0  "
      ]
     },
     "execution_count": 80,
     "metadata": {},
     "output_type": "execute_result"
    }
   ],
   "source": [
    "df['Is_Weekend'] = np.where(df['pickup_datetime'].dt.dayofweek.isin([5,6]),1,0)\n",
    "df.head()"
   ]
  },
  {
   "cell_type": "code",
   "execution_count": 84,
   "id": "b3fc1a42",
   "metadata": {},
   "outputs": [
    {
     "data": {
      "text/plain": [
       "(49825, 20)"
      ]
     },
     "execution_count": 84,
     "metadata": {},
     "output_type": "execute_result"
    }
   ],
   "source": [
    "df.shape"
   ]
  },
  {
   "cell_type": "code",
   "execution_count": 85,
   "id": "7f8b7a9b",
   "metadata": {},
   "outputs": [
    {
     "data": {
      "text/plain": [
       "Index(['id', 'amount', 'pickup_datetime', 'long_pickup', 'lat_pickup',\n",
       "       'long_drop', 'lat_drop', 'pass_count', 'Manhattan_dist',\n",
       "       'Euclidean_dist', 'abs_lat_diff', 'abs_long_diff', 'Haversine_dist',\n",
       "       'Year', 'Qtr', 'Month', 'Day', 'Hour', 'Hour_Qtr', 'Is_Weekend'],\n",
       "      dtype='object')"
      ]
     },
     "execution_count": 85,
     "metadata": {},
     "output_type": "execute_result"
    }
   ],
   "source": [
    "df.columns"
   ]
  },
  {
   "cell_type": "code",
   "execution_count": 86,
   "id": "2744f003",
   "metadata": {},
   "outputs": [
    {
     "data": {
      "text/plain": [
       "id                 0\n",
       "amount             0\n",
       "pickup_datetime    0\n",
       "long_pickup        0\n",
       "lat_pickup         0\n",
       "long_drop          0\n",
       "lat_drop           0\n",
       "pass_count         0\n",
       "Manhattan_dist     0\n",
       "Euclidean_dist     0\n",
       "abs_lat_diff       0\n",
       "abs_long_diff      0\n",
       "Haversine_dist     0\n",
       "Year               0\n",
       "Qtr                0\n",
       "Month              0\n",
       "Day                0\n",
       "Hour               0\n",
       "Hour_Qtr           0\n",
       "Is_Weekend         0\n",
       "dtype: int64"
      ]
     },
     "execution_count": 86,
     "metadata": {},
     "output_type": "execute_result"
    }
   ],
   "source": [
    "df.isnull().sum()"
   ]
  },
  {
   "cell_type": "markdown",
   "id": "cd66372a",
   "metadata": {},
   "source": [
    "### EDA"
   ]
  },
  {
   "cell_type": "code",
   "execution_count": 51,
   "id": "8508b273",
   "metadata": {
    "scrolled": true
   },
   "outputs": [
    {
     "data": {
      "text/html": [
       "<div>\n",
       "<style scoped>\n",
       "    .dataframe tbody tr th:only-of-type {\n",
       "        vertical-align: middle;\n",
       "    }\n",
       "\n",
       "    .dataframe tbody tr th {\n",
       "        vertical-align: top;\n",
       "    }\n",
       "\n",
       "    .dataframe thead th {\n",
       "        text-align: right;\n",
       "    }\n",
       "</style>\n",
       "<table border=\"1\" class=\"dataframe\">\n",
       "  <thead>\n",
       "    <tr style=\"text-align: right;\">\n",
       "      <th></th>\n",
       "      <th>min</th>\n",
       "      <th>max</th>\n",
       "      <th>mean</th>\n",
       "      <th>median</th>\n",
       "      <th>var</th>\n",
       "      <th>std</th>\n",
       "    </tr>\n",
       "    <tr>\n",
       "      <th>Year</th>\n",
       "      <th></th>\n",
       "      <th></th>\n",
       "      <th></th>\n",
       "      <th></th>\n",
       "      <th></th>\n",
       "      <th></th>\n",
       "    </tr>\n",
       "  </thead>\n",
       "  <tbody>\n",
       "    <tr>\n",
       "      <th>2009</th>\n",
       "      <td>2.50</td>\n",
       "      <td>165.00</td>\n",
       "      <td>10.049168</td>\n",
       "      <td>7.7</td>\n",
       "      <td>71.353437</td>\n",
       "      <td>8.447096</td>\n",
       "    </tr>\n",
       "    <tr>\n",
       "      <th>2010</th>\n",
       "      <td>2.50</td>\n",
       "      <td>143.00</td>\n",
       "      <td>10.141539</td>\n",
       "      <td>7.7</td>\n",
       "      <td>70.639480</td>\n",
       "      <td>8.404730</td>\n",
       "    </tr>\n",
       "    <tr>\n",
       "      <th>2011</th>\n",
       "      <td>2.50</td>\n",
       "      <td>96.00</td>\n",
       "      <td>10.481042</td>\n",
       "      <td>7.7</td>\n",
       "      <td>72.116932</td>\n",
       "      <td>8.492169</td>\n",
       "    </tr>\n",
       "    <tr>\n",
       "      <th>2012</th>\n",
       "      <td>2.50</td>\n",
       "      <td>200.00</td>\n",
       "      <td>11.244782</td>\n",
       "      <td>8.5</td>\n",
       "      <td>93.934069</td>\n",
       "      <td>9.691959</td>\n",
       "    </tr>\n",
       "    <tr>\n",
       "      <th>2013</th>\n",
       "      <td>2.50</td>\n",
       "      <td>180.00</td>\n",
       "      <td>12.443361</td>\n",
       "      <td>9.5</td>\n",
       "      <td>108.729506</td>\n",
       "      <td>10.427344</td>\n",
       "    </tr>\n",
       "    <tr>\n",
       "      <th>2014</th>\n",
       "      <td>2.50</td>\n",
       "      <td>165.00</td>\n",
       "      <td>13.140996</td>\n",
       "      <td>9.5</td>\n",
       "      <td>127.952862</td>\n",
       "      <td>11.311625</td>\n",
       "    </tr>\n",
       "    <tr>\n",
       "      <th>2015</th>\n",
       "      <td>0.01</td>\n",
       "      <td>96.25</td>\n",
       "      <td>13.076379</td>\n",
       "      <td>9.5</td>\n",
       "      <td>116.383551</td>\n",
       "      <td>10.788121</td>\n",
       "    </tr>\n",
       "  </tbody>\n",
       "</table>\n",
       "</div>"
      ],
      "text/plain": [
       "       min     max       mean  median         var        std\n",
       "Year                                                        \n",
       "2009  2.50  165.00  10.049168     7.7   71.353437   8.447096\n",
       "2010  2.50  143.00  10.141539     7.7   70.639480   8.404730\n",
       "2011  2.50   96.00  10.481042     7.7   72.116932   8.492169\n",
       "2012  2.50  200.00  11.244782     8.5   93.934069   9.691959\n",
       "2013  2.50  180.00  12.443361     9.5  108.729506  10.427344\n",
       "2014  2.50  165.00  13.140996     9.5  127.952862  11.311625\n",
       "2015  0.01   96.25  13.076379     9.5  116.383551  10.788121"
      ]
     },
     "execution_count": 51,
     "metadata": {},
     "output_type": "execute_result"
    }
   ],
   "source": [
    "df.groupby(['Year'])['amount'].agg(['min','max','mean','median','var','std'])"
   ]
  },
  {
   "cell_type": "code",
   "execution_count": 52,
   "id": "9f9d9923",
   "metadata": {},
   "outputs": [],
   "source": [
    "def feature_desc_wrt_amount(feat):\n",
    "    feat_desc = df.groupby([feat])['amount'].agg(['min','max','mean','median','count'])\n",
    "    plt.figure(figsize=(14,4))\n",
    "    plt.subplot(1,2,1)\n",
    "    sns.countplot(x=df[feat],\n",
    "                  order=df[feat].value_counts().sort_values(ascending=False).index)\n",
    "    plt.title(f'Countplot for {feat}')\n",
    "    plt.xticks(fontsize=8)\n",
    "    \n",
    "    plt.subplot(1,2,2)\n",
    "    sns.boxplot(x=df[feat],y=df['amount'])\n",
    "    plt.title(f'Boxplot for Amount wrt {feat}')\n",
    "    return feat_desc "
   ]
  }
 ],
 "metadata": {
  "kernelspec": {
   "display_name": "Python 3 (ipykernel)",
   "language": "python",
   "name": "python3"
  },
  "language_info": {
   "codemirror_mode": {
    "name": "ipython",
    "version": 3
   },
   "file_extension": ".py",
   "mimetype": "text/x-python",
   "name": "python",
   "nbconvert_exporter": "python",
   "pygments_lexer": "ipython3",
   "version": "3.9.13"
  }
 },
 "nbformat": 4,
 "nbformat_minor": 5
}
